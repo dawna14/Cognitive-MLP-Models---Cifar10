{
  "nbformat": 4,
  "nbformat_minor": 0,
  "metadata": {
    "colab": {
      "name": "MLP4_Cifar10",
      "version": "0.3.2",
      "provenance": [],
      "collapsed_sections": []
    },
    "kernelspec": {
      "name": "python3",
      "display_name": "Python 3"
    }
  },
  "cells": [
    {
      "metadata": {
        "id": "11Au6wnL5cCv",
        "colab_type": "text"
      },
      "cell_type": "markdown",
      "source": [
        "**Changed the optimiser and the loss function**"
      ]
    },
    {
      "metadata": {
        "id": "1M9x3Fvs_JN3",
        "colab_type": "code",
        "colab": {}
      },
      "cell_type": "code",
      "source": [
        "import keras\n",
        "from keras.datasets import cifar10\n",
        "from keras.models import Sequential\n",
        "from keras.layers import Dense, Dropout\n",
        "from keras.optimizers import RMSprop\n",
        "from keras import optimizers\n",
        "import matplotlib.pyplot as plt\n",
        "import numpy as np"
      ],
      "execution_count": 0,
      "outputs": []
    },
    {
      "metadata": {
        "id": "HiynekuM_tae",
        "colab_type": "code",
        "colab": {}
      },
      "cell_type": "code",
      "source": [
        "batch_size = 200\n",
        "num_classes = 10\n",
        "epochs = 80"
      ],
      "execution_count": 0,
      "outputs": []
    },
    {
      "metadata": {
        "id": "wuUeHc-N_0N5",
        "colab_type": "code",
        "colab": {}
      },
      "cell_type": "code",
      "source": [
        "(x_train, y_train), (x_test, y_test) = cifar10.load_data()"
      ],
      "execution_count": 0,
      "outputs": []
    },
    {
      "metadata": {
        "id": "wyQILwwG_3Yh",
        "colab_type": "code",
        "outputId": "4da8a44d-8f25-4926-8fb5-3ac02926e6ed",
        "colab": {
          "base_uri": "https://localhost:8080/",
          "height": 51
        }
      },
      "cell_type": "code",
      "source": [
        "x_train = x_train.reshape(50000, 3072)\n",
        "x_test = x_test.reshape(10000, 3072)\n",
        "x_train = x_train.astype('float32')\n",
        "x_test = x_test.astype('float32')\n",
        "x_train /= 255\n",
        "x_test /= 255\n",
        "print(x_train.shape[0], 'train samples')\n",
        "print(x_test.shape[0], 'test samples')"
      ],
      "execution_count": 0,
      "outputs": [
        {
          "output_type": "stream",
          "text": [
            "50000 train samples\n",
            "10000 test samples\n"
          ],
          "name": "stdout"
        }
      ]
    },
    {
      "metadata": {
        "id": "vDTTaaKU_7qQ",
        "colab_type": "code",
        "colab": {}
      },
      "cell_type": "code",
      "source": [
        "y_train = keras.utils.to_categorical(y_train, num_classes)\n",
        "y_test = keras.utils.to_categorical(y_test, num_classes)"
      ],
      "execution_count": 0,
      "outputs": []
    },
    {
      "metadata": {
        "id": "wNey-de-_-5u",
        "colab_type": "code",
        "colab": {}
      },
      "cell_type": "code",
      "source": [
        "model = Sequential()\n",
        "model.add(Dense(512, activation='relu', input_shape=(3072,)))\n",
        "model.add(Dropout(0.2))\n",
        "model.add(Dense(512, activation='relu'))\n",
        "model.add(Dropout(0.2))\n",
        "model.add(Dense(num_classes, activation='softmax'))"
      ],
      "execution_count": 0,
      "outputs": []
    },
    {
      "metadata": {
        "id": "goqbeKjIDytj",
        "colab_type": "code",
        "outputId": "18b9ea01-5dd6-41c9-9ea1-0a86b7354404",
        "colab": {
          "base_uri": "https://localhost:8080/",
          "height": 306
        }
      },
      "cell_type": "code",
      "source": [
        "model.summary()"
      ],
      "execution_count": 0,
      "outputs": [
        {
          "output_type": "stream",
          "text": [
            "_________________________________________________________________\n",
            "Layer (type)                 Output Shape              Param #   \n",
            "=================================================================\n",
            "dense_1 (Dense)              (None, 512)               1573376   \n",
            "_________________________________________________________________\n",
            "dropout_1 (Dropout)          (None, 512)               0         \n",
            "_________________________________________________________________\n",
            "dense_2 (Dense)              (None, 512)               262656    \n",
            "_________________________________________________________________\n",
            "dropout_2 (Dropout)          (None, 512)               0         \n",
            "_________________________________________________________________\n",
            "dense_3 (Dense)              (None, 10)                5130      \n",
            "=================================================================\n",
            "Total params: 1,841,162\n",
            "Trainable params: 1,841,162\n",
            "Non-trainable params: 0\n",
            "_________________________________________________________________\n"
          ],
          "name": "stdout"
        }
      ]
    },
    {
      "metadata": {
        "id": "j_d7RauDFrZV",
        "colab_type": "code",
        "colab": {}
      },
      "cell_type": "code",
      "source": [
        "sgd = optimizers.SGD(lr=0.01, decay=1e-6, momentum=0.9, nesterov=True)\n",
        "model.compile(loss='mean_squared_error', optimizer=sgd,metrics=['accuracy'])"
      ],
      "execution_count": 0,
      "outputs": []
    },
    {
      "metadata": {
        "id": "wCGqqLtlF296",
        "colab_type": "code",
        "outputId": "f4ab2816-572b-42e8-97f4-23898be22f57",
        "colab": {
          "base_uri": "https://localhost:8080/",
          "height": 2788
        }
      },
      "cell_type": "code",
      "source": [
        "history = model.fit(x_train, y_train,\n",
        "                    batch_size=batch_size,\n",
        "                    epochs=epochs,\n",
        "                    verbose=1,\n",
        "                    validation_data=(x_test, y_test))\n",
        "score = model.evaluate(x_test, y_test, verbose=0)\n",
        "print('Test loss:', score[0])\n",
        "print('Test accuracy:', score[1])"
      ],
      "execution_count": 0,
      "outputs": [
        {
          "output_type": "stream",
          "text": [
            "Train on 50000 samples, validate on 10000 samples\n",
            "Epoch 1/80\n",
            "50000/50000 [==============================] - 14s 277us/step - loss: 0.0886 - acc: 0.1689 - val_loss: 0.0852 - val_acc: 0.2566\n",
            "Epoch 2/80\n",
            "50000/50000 [==============================] - 14s 276us/step - loss: 0.0851 - acc: 0.2414 - val_loss: 0.0828 - val_acc: 0.2921\n",
            "Epoch 3/80\n",
            "50000/50000 [==============================] - 14s 275us/step - loss: 0.0831 - acc: 0.2760 - val_loss: 0.0811 - val_acc: 0.3215\n",
            "Epoch 4/80\n",
            "50000/50000 [==============================] - 14s 274us/step - loss: 0.0819 - acc: 0.2969 - val_loss: 0.0799 - val_acc: 0.3346\n",
            "Epoch 5/80\n",
            "50000/50000 [==============================] - 14s 277us/step - loss: 0.0808 - acc: 0.3151 - val_loss: 0.0790 - val_acc: 0.3501\n",
            "Epoch 6/80\n",
            "50000/50000 [==============================] - 14s 276us/step - loss: 0.0799 - acc: 0.3287 - val_loss: 0.0781 - val_acc: 0.3599\n",
            "Epoch 7/80\n",
            "50000/50000 [==============================] - 14s 275us/step - loss: 0.0791 - acc: 0.3386 - val_loss: 0.0774 - val_acc: 0.3688\n",
            "Epoch 8/80\n",
            "50000/50000 [==============================] - 14s 276us/step - loss: 0.0785 - acc: 0.3463 - val_loss: 0.0767 - val_acc: 0.3752\n",
            "Epoch 9/80\n",
            "50000/50000 [==============================] - 14s 276us/step - loss: 0.0779 - acc: 0.3542 - val_loss: 0.0762 - val_acc: 0.3800\n",
            "Epoch 10/80\n",
            "50000/50000 [==============================] - 14s 276us/step - loss: 0.0774 - acc: 0.3601 - val_loss: 0.0758 - val_acc: 0.3883\n",
            "Epoch 11/80\n",
            "50000/50000 [==============================] - 14s 274us/step - loss: 0.0770 - acc: 0.3656 - val_loss: 0.0753 - val_acc: 0.3889\n",
            "Epoch 12/80\n",
            "50000/50000 [==============================] - 14s 272us/step - loss: 0.0765 - acc: 0.3714 - val_loss: 0.0750 - val_acc: 0.3926\n",
            "Epoch 13/80\n",
            "50000/50000 [==============================] - 14s 274us/step - loss: 0.0761 - acc: 0.3760 - val_loss: 0.0746 - val_acc: 0.4001\n",
            "Epoch 14/80\n",
            "50000/50000 [==============================] - 14s 275us/step - loss: 0.0757 - acc: 0.3809 - val_loss: 0.0743 - val_acc: 0.3980\n",
            "Epoch 15/80\n",
            "50000/50000 [==============================] - 14s 274us/step - loss: 0.0753 - acc: 0.3869 - val_loss: 0.0738 - val_acc: 0.4055\n",
            "Epoch 16/80\n",
            "50000/50000 [==============================] - 14s 274us/step - loss: 0.0751 - acc: 0.3892 - val_loss: 0.0736 - val_acc: 0.4063\n",
            "Epoch 17/80\n",
            "50000/50000 [==============================] - 14s 276us/step - loss: 0.0747 - acc: 0.3942 - val_loss: 0.0732 - val_acc: 0.4083\n",
            "Epoch 18/80\n",
            "50000/50000 [==============================] - 14s 275us/step - loss: 0.0744 - acc: 0.3965 - val_loss: 0.0729 - val_acc: 0.4154\n",
            "Epoch 19/80\n",
            "50000/50000 [==============================] - 14s 276us/step - loss: 0.0741 - acc: 0.3995 - val_loss: 0.0726 - val_acc: 0.4154\n",
            "Epoch 20/80\n",
            "50000/50000 [==============================] - 14s 280us/step - loss: 0.0738 - acc: 0.4047 - val_loss: 0.0724 - val_acc: 0.4184\n",
            "Epoch 21/80\n",
            "50000/50000 [==============================] - 14s 278us/step - loss: 0.0736 - acc: 0.4045 - val_loss: 0.0722 - val_acc: 0.4188\n",
            "Epoch 22/80\n",
            "50000/50000 [==============================] - 14s 283us/step - loss: 0.0733 - acc: 0.4074 - val_loss: 0.0718 - val_acc: 0.4278\n",
            "Epoch 23/80\n",
            "50000/50000 [==============================] - 14s 276us/step - loss: 0.0730 - acc: 0.4121 - val_loss: 0.0716 - val_acc: 0.4293\n",
            "Epoch 24/80\n",
            "50000/50000 [==============================] - 14s 279us/step - loss: 0.0727 - acc: 0.4147 - val_loss: 0.0714 - val_acc: 0.4329\n",
            "Epoch 25/80\n",
            "50000/50000 [==============================] - 14s 277us/step - loss: 0.0725 - acc: 0.4180 - val_loss: 0.0712 - val_acc: 0.4327\n",
            "Epoch 26/80\n",
            "50000/50000 [==============================] - 14s 277us/step - loss: 0.0722 - acc: 0.4211 - val_loss: 0.0711 - val_acc: 0.4325\n",
            "Epoch 27/80\n",
            "50000/50000 [==============================] - 14s 277us/step - loss: 0.0720 - acc: 0.4246 - val_loss: 0.0707 - val_acc: 0.4383\n",
            "Epoch 28/80\n",
            "50000/50000 [==============================] - 14s 278us/step - loss: 0.0718 - acc: 0.4245 - val_loss: 0.0706 - val_acc: 0.4364\n",
            "Epoch 29/80\n",
            "50000/50000 [==============================] - 14s 279us/step - loss: 0.0715 - acc: 0.4288 - val_loss: 0.0704 - val_acc: 0.4422\n",
            "Epoch 30/80\n",
            "50000/50000 [==============================] - 14s 278us/step - loss: 0.0713 - acc: 0.4308 - val_loss: 0.0703 - val_acc: 0.4405\n",
            "Epoch 31/80\n",
            "50000/50000 [==============================] - 14s 279us/step - loss: 0.0712 - acc: 0.4343 - val_loss: 0.0700 - val_acc: 0.4443\n",
            "Epoch 32/80\n",
            "50000/50000 [==============================] - 14s 277us/step - loss: 0.0709 - acc: 0.4341 - val_loss: 0.0698 - val_acc: 0.4472\n",
            "Epoch 33/80\n",
            "50000/50000 [==============================] - 14s 277us/step - loss: 0.0708 - acc: 0.4365 - val_loss: 0.0696 - val_acc: 0.4484\n",
            "Epoch 34/80\n",
            "50000/50000 [==============================] - 14s 277us/step - loss: 0.0706 - acc: 0.4392 - val_loss: 0.0695 - val_acc: 0.4487\n",
            "Epoch 35/80\n",
            "50000/50000 [==============================] - 14s 275us/step - loss: 0.0704 - acc: 0.4412 - val_loss: 0.0693 - val_acc: 0.4501\n",
            "Epoch 36/80\n",
            "50000/50000 [==============================] - 14s 277us/step - loss: 0.0702 - acc: 0.4449 - val_loss: 0.0691 - val_acc: 0.4530\n",
            "Epoch 37/80\n",
            "50000/50000 [==============================] - 14s 276us/step - loss: 0.0700 - acc: 0.4429 - val_loss: 0.0689 - val_acc: 0.4560\n",
            "Epoch 38/80\n",
            "50000/50000 [==============================] - 14s 277us/step - loss: 0.0698 - acc: 0.4467 - val_loss: 0.0688 - val_acc: 0.4565\n",
            "Epoch 39/80\n",
            "50000/50000 [==============================] - 14s 277us/step - loss: 0.0696 - acc: 0.4502 - val_loss: 0.0687 - val_acc: 0.4573\n",
            "Epoch 40/80\n",
            "50000/50000 [==============================] - 14s 277us/step - loss: 0.0694 - acc: 0.4534 - val_loss: 0.0686 - val_acc: 0.4566\n",
            "Epoch 41/80\n",
            "50000/50000 [==============================] - 14s 277us/step - loss: 0.0693 - acc: 0.4531 - val_loss: 0.0683 - val_acc: 0.4598\n",
            "Epoch 42/80\n",
            "50000/50000 [==============================] - 14s 277us/step - loss: 0.0690 - acc: 0.4554 - val_loss: 0.0683 - val_acc: 0.4593\n",
            "Epoch 43/80\n",
            "50000/50000 [==============================] - 14s 277us/step - loss: 0.0688 - acc: 0.4557 - val_loss: 0.0681 - val_acc: 0.4627\n",
            "Epoch 44/80\n",
            "50000/50000 [==============================] - 14s 283us/step - loss: 0.0687 - acc: 0.4592 - val_loss: 0.0681 - val_acc: 0.4585\n",
            "Epoch 45/80\n",
            "50000/50000 [==============================] - 14s 278us/step - loss: 0.0687 - acc: 0.4578 - val_loss: 0.0680 - val_acc: 0.4622\n",
            "Epoch 46/80\n",
            "50000/50000 [==============================] - 14s 279us/step - loss: 0.0685 - acc: 0.4597 - val_loss: 0.0677 - val_acc: 0.4642\n",
            "Epoch 47/80\n",
            "50000/50000 [==============================] - 14s 276us/step - loss: 0.0683 - acc: 0.4604 - val_loss: 0.0676 - val_acc: 0.4666\n",
            "Epoch 48/80\n",
            "50000/50000 [==============================] - 14s 277us/step - loss: 0.0681 - acc: 0.4637 - val_loss: 0.0675 - val_acc: 0.4660\n",
            "Epoch 49/80\n",
            "50000/50000 [==============================] - 14s 277us/step - loss: 0.0681 - acc: 0.4633 - val_loss: 0.0673 - val_acc: 0.4671\n",
            "Epoch 50/80\n",
            "50000/50000 [==============================] - 14s 277us/step - loss: 0.0678 - acc: 0.4666 - val_loss: 0.0672 - val_acc: 0.4678\n",
            "Epoch 51/80\n",
            "50000/50000 [==============================] - 14s 277us/step - loss: 0.0677 - acc: 0.4690 - val_loss: 0.0671 - val_acc: 0.4686\n",
            "Epoch 52/80\n",
            "50000/50000 [==============================] - 14s 276us/step - loss: 0.0675 - acc: 0.4699 - val_loss: 0.0670 - val_acc: 0.4710\n",
            "Epoch 53/80\n",
            "50000/50000 [==============================] - 14s 276us/step - loss: 0.0674 - acc: 0.4707 - val_loss: 0.0670 - val_acc: 0.4683\n",
            "Epoch 54/80\n",
            "50000/50000 [==============================] - 14s 277us/step - loss: 0.0672 - acc: 0.4727 - val_loss: 0.0667 - val_acc: 0.4757\n",
            "Epoch 55/80\n",
            "50000/50000 [==============================] - 14s 277us/step - loss: 0.0670 - acc: 0.4750 - val_loss: 0.0667 - val_acc: 0.4740\n",
            "Epoch 56/80\n",
            "50000/50000 [==============================] - 14s 276us/step - loss: 0.0669 - acc: 0.4765 - val_loss: 0.0666 - val_acc: 0.4752\n",
            "Epoch 57/80\n",
            "50000/50000 [==============================] - 14s 282us/step - loss: 0.0668 - acc: 0.4769 - val_loss: 0.0667 - val_acc: 0.4711\n",
            "Epoch 58/80\n",
            "50000/50000 [==============================] - 15s 290us/step - loss: 0.0666 - acc: 0.4773 - val_loss: 0.0663 - val_acc: 0.4759\n",
            "Epoch 59/80\n",
            "50000/50000 [==============================] - 14s 283us/step - loss: 0.0665 - acc: 0.4788 - val_loss: 0.0663 - val_acc: 0.4772\n",
            "Epoch 60/80\n",
            "50000/50000 [==============================] - 14s 276us/step - loss: 0.0664 - acc: 0.4790 - val_loss: 0.0662 - val_acc: 0.4824\n",
            "Epoch 61/80\n",
            "50000/50000 [==============================] - 14s 278us/step - loss: 0.0662 - acc: 0.4832 - val_loss: 0.0660 - val_acc: 0.4835\n",
            "Epoch 62/80\n",
            "50000/50000 [==============================] - 14s 277us/step - loss: 0.0661 - acc: 0.4844 - val_loss: 0.0660 - val_acc: 0.4827\n",
            "Epoch 63/80\n",
            "50000/50000 [==============================] - 14s 279us/step - loss: 0.0659 - acc: 0.4851 - val_loss: 0.0658 - val_acc: 0.4840\n",
            "Epoch 64/80\n",
            "50000/50000 [==============================] - 14s 276us/step - loss: 0.0657 - acc: 0.4879 - val_loss: 0.0657 - val_acc: 0.4825\n",
            "Epoch 65/80\n",
            "50000/50000 [==============================] - 14s 279us/step - loss: 0.0656 - acc: 0.4876 - val_loss: 0.0656 - val_acc: 0.4862\n",
            "Epoch 66/80\n",
            "50000/50000 [==============================] - 14s 283us/step - loss: 0.0655 - acc: 0.4902 - val_loss: 0.0656 - val_acc: 0.4829\n",
            "Epoch 67/80\n",
            "50000/50000 [==============================] - 14s 282us/step - loss: 0.0653 - acc: 0.4915 - val_loss: 0.0654 - val_acc: 0.4843\n",
            "Epoch 68/80\n",
            "50000/50000 [==============================] - 14s 278us/step - loss: 0.0652 - acc: 0.4907 - val_loss: 0.0654 - val_acc: 0.4833\n",
            "Epoch 69/80\n",
            "50000/50000 [==============================] - 14s 278us/step - loss: 0.0650 - acc: 0.4933 - val_loss: 0.0652 - val_acc: 0.4866\n",
            "Epoch 70/80\n",
            "50000/50000 [==============================] - 14s 275us/step - loss: 0.0650 - acc: 0.4932 - val_loss: 0.0652 - val_acc: 0.4853\n",
            "Epoch 71/80\n",
            "50000/50000 [==============================] - 14s 275us/step - loss: 0.0648 - acc: 0.4943 - val_loss: 0.0651 - val_acc: 0.4881\n",
            "Epoch 72/80\n",
            "50000/50000 [==============================] - 14s 274us/step - loss: 0.0648 - acc: 0.4954 - val_loss: 0.0648 - val_acc: 0.4898\n",
            "Epoch 73/80\n",
            "50000/50000 [==============================] - 14s 274us/step - loss: 0.0647 - acc: 0.4970 - val_loss: 0.0649 - val_acc: 0.4919\n",
            "Epoch 74/80\n",
            "50000/50000 [==============================] - 14s 272us/step - loss: 0.0646 - acc: 0.4981 - val_loss: 0.0647 - val_acc: 0.4936\n",
            "Epoch 75/80\n",
            "50000/50000 [==============================] - 14s 274us/step - loss: 0.0643 - acc: 0.5006 - val_loss: 0.0648 - val_acc: 0.4896\n",
            "Epoch 76/80\n",
            "50000/50000 [==============================] - 14s 275us/step - loss: 0.0643 - acc: 0.4996 - val_loss: 0.0645 - val_acc: 0.4936\n",
            "Epoch 77/80\n",
            "50000/50000 [==============================] - 14s 275us/step - loss: 0.0640 - acc: 0.5020 - val_loss: 0.0645 - val_acc: 0.4929\n",
            "Epoch 78/80\n",
            "50000/50000 [==============================] - 14s 274us/step - loss: 0.0641 - acc: 0.5013 - val_loss: 0.0644 - val_acc: 0.4934\n",
            "Epoch 79/80\n",
            "50000/50000 [==============================] - 14s 274us/step - loss: 0.0638 - acc: 0.5050 - val_loss: 0.0642 - val_acc: 0.4945\n",
            "Epoch 80/80\n",
            "50000/50000 [==============================] - 14s 274us/step - loss: 0.0638 - acc: 0.5048 - val_loss: 0.0644 - val_acc: 0.4943\n",
            "Test loss: 0.06440683915615082\n",
            "Test accuracy: 0.4943\n"
          ],
          "name": "stdout"
        }
      ]
    },
    {
      "metadata": {
        "id": "zfPxrpBWF8Qb",
        "colab_type": "code",
        "outputId": "5e0fbb6c-ade3-4a61-d766-791b45ff2ae0",
        "colab": {
          "base_uri": "https://localhost:8080/",
          "height": 403
        }
      },
      "cell_type": "code",
      "source": [
        "plt.figure(0)\n",
        "plt.plot(history.history['acc'],'r')\n",
        "plt.plot(history.history['val_acc'],'g')\n",
        "plt.xticks(np.arange(0, 80, 5.0))\n",
        "plt.rcParams['figure.figsize'] = (8, 6)\n",
        "plt.xlabel(\"Num of Epochs\")\n",
        "plt.ylabel(\"Accuracy\")\n",
        "plt.title(\"Training Accuracy vs Validation Accuracy\")\n",
        "plt.legend(['train','validation'])\n",
        "plt.show()"
      ],
      "execution_count": 0,
      "outputs": [
        {
          "output_type": "display_data",
          "data": {
            "image/png": "[encoded data removed]",
            "text/plain": [
              "<Figure size 576x432 with 1 Axes>"
            ]
          },
          "metadata": {
            "tags": []
          }
        }
      ]
    },
    {
      "metadata": {
        "id": "4V_8gAw-Y0Eh",
        "colab_type": "code",
        "outputId": "5e22faea-e15e-441f-cc63-2461b2be8036",
        "colab": {
          "base_uri": "https://localhost:8080/",
          "height": 403
        }
      },
      "cell_type": "code",
      "source": [
        "plt.figure(1)\n",
        "plt.plot(history.history['loss'],'r')\n",
        "plt.plot(history.history['val_loss'],'g')\n",
        "plt.xticks(np.arange(0, 80, 5.0))\n",
        "plt.rcParams['figure.figsize'] = (8, 6)\n",
        "plt.xlabel(\"Num of Epochs\")\n",
        "plt.ylabel(\"Loss\")\n",
        "plt.title(\"Training Loss vs Validation Loss\")\n",
        "plt.legend(['train','validation'])\n",
        "plt.show()"
      ],
      "execution_count": 0,
      "outputs": [
        {
          "output_type": "display_data",
          "data": {
            "image/png": "[encoded data removed]",
            "text/plain": [
              "<Figure size 576x432 with 1 Axes>"
            ]
          },
          "metadata": {
            "tags": []
          }
        }
      ]
    },
    {
      "metadata": {
        "id": "kxRq2AGNZ4re",
        "colab_type": "text"
      },
      "cell_type": "markdown",
      "source": [
        "**Conclusion:**\n",
        "Steep reduction in loss after using SGD and increasing Epoch to 80. Also only 14 sec per Epoch. Accuracy marginally near 50%."
      ]
    },
    {
      "metadata": {
        "id": "laMGWQncZrxZ",
        "colab_type": "code",
        "colab": {}
      },
      "cell_type": "code",
      "source": [
        ""
      ],
      "execution_count": 0,
      "outputs": []
    }
  ]
}