{
  "nbformat": 4,
  "nbformat_minor": 0,
  "metadata": {
    "colab": {
      "name": "MLP5_Cifar10",
      "version": "0.3.2",
      "provenance": [],
      "collapsed_sections": []
    },
    "kernelspec": {
      "name": "python3",
      "display_name": "Python 3"
    }
  },
  "cells": [
    {
      "metadata": {
        "id": "XUMyeRs_6ay0",
        "colab_type": "text"
      },
      "cell_type": "markdown",
      "source": [
        "**Increased the count of Neurons in the layers**"
      ]
    },
    {
      "metadata": {
        "id": "NxN02rBncO4p",
        "colab_type": "code",
        "outputId": "0eb84b1b-0753-4fdd-d6f3-1fad1daf69cc",
        "colab": {
          "base_uri": "https://localhost:8080/",
          "height": 34
        }
      },
      "cell_type": "code",
      "source": [
        "import keras\n",
        "from keras.datasets import cifar10\n",
        "from keras.models import Sequential\n",
        "from keras.layers import Dense, Dropout\n",
        "from keras.optimizers import RMSprop\n",
        "from keras import optimizers\n",
        "import matplotlib.pyplot as plt\n",
        "import numpy as np"
      ],
      "execution_count": 0,
      "outputs": [
        {
          "output_type": "stream",
          "text": [
            "Using TensorFlow backend.\n"
          ],
          "name": "stderr"
        }
      ]
    },
    {
      "metadata": {
        "id": "3iqWG9-scXWu",
        "colab_type": "code",
        "colab": {}
      },
      "cell_type": "code",
      "source": [
        "batch_size = 200\n",
        "num_classes = 10\n",
        "epochs = 100"
      ],
      "execution_count": 0,
      "outputs": []
    },
    {
      "metadata": {
        "id": "ZPlNYAKAcfhA",
        "colab_type": "code",
        "colab": {}
      },
      "cell_type": "code",
      "source": [
        "(x_train, y_train), (x_test, y_test) = cifar10.load_data()"
      ],
      "execution_count": 0,
      "outputs": []
    },
    {
      "metadata": {
        "id": "Ys7c_pa_cgOX",
        "colab_type": "code",
        "outputId": "e9ff6d2c-04c4-4805-9642-3361228a88ac",
        "colab": {
          "base_uri": "https://localhost:8080/",
          "height": 51
        }
      },
      "cell_type": "code",
      "source": [
        "x_train = x_train.reshape(50000, 3072)\n",
        "x_test = x_test.reshape(10000, 3072)\n",
        "x_train = x_train.astype('float32')\n",
        "x_test = x_test.astype('float32')\n",
        "x_train /= 255\n",
        "x_test /= 255\n",
        "print(x_train.shape[0], 'train samples')\n",
        "print(x_test.shape[0], 'test samples')"
      ],
      "execution_count": 0,
      "outputs": [
        {
          "output_type": "stream",
          "text": [
            "50000 train samples\n",
            "10000 test samples\n"
          ],
          "name": "stdout"
        }
      ]
    },
    {
      "metadata": {
        "id": "dBRzKPpJcjNV",
        "colab_type": "code",
        "colab": {}
      },
      "cell_type": "code",
      "source": [
        "y_train = keras.utils.to_categorical(y_train, num_classes)\n",
        "y_test = keras.utils.to_categorical(y_test, num_classes)"
      ],
      "execution_count": 0,
      "outputs": []
    },
    {
      "metadata": {
        "id": "jvsUG_BCcl20",
        "colab_type": "code",
        "colab": {}
      },
      "cell_type": "code",
      "source": [
        "model = Sequential()\n",
        "model.add(Dense(640, activation='relu', input_shape=(3072,)))\n",
        "model.add(Dropout(0.2))\n",
        "model.add(Dense(640, activation='relu'))\n",
        "model.add(Dropout(0.2))\n",
        "model.add(Dense(num_classes, activation='softmax'))"
      ],
      "execution_count": 0,
      "outputs": []
    },
    {
      "metadata": {
        "id": "1ptfrYh6dHAd",
        "colab_type": "code",
        "outputId": "f46744da-1cd1-4e6d-f875-b435a3c8f69f",
        "colab": {
          "base_uri": "https://localhost:8080/",
          "height": 306
        }
      },
      "cell_type": "code",
      "source": [
        "model.summary()"
      ],
      "execution_count": 0,
      "outputs": [
        {
          "output_type": "stream",
          "text": [
            "_________________________________________________________________\n",
            "Layer (type)                 Output Shape              Param #   \n",
            "=================================================================\n",
            "dense_1 (Dense)              (None, 640)               1966720   \n",
            "_________________________________________________________________\n",
            "dropout_1 (Dropout)          (None, 640)               0         \n",
            "_________________________________________________________________\n",
            "dense_2 (Dense)              (None, 640)               410240    \n",
            "_________________________________________________________________\n",
            "dropout_2 (Dropout)          (None, 640)               0         \n",
            "_________________________________________________________________\n",
            "dense_3 (Dense)              (None, 10)                6410      \n",
            "=================================================================\n",
            "Total params: 2,383,370\n",
            "Trainable params: 2,383,370\n",
            "Non-trainable params: 0\n",
            "_________________________________________________________________\n"
          ],
          "name": "stdout"
        }
      ]
    },
    {
      "metadata": {
        "id": "oIHW2AE6dJ_s",
        "colab_type": "code",
        "colab": {}
      },
      "cell_type": "code",
      "source": [
        "sgd = optimizers.SGD(lr=0.01, decay=1e-6, momentum=0.9, nesterov=True)\n",
        "model.compile(loss='mean_squared_error', optimizer=sgd,metrics=['accuracy'])"
      ],
      "execution_count": 0,
      "outputs": []
    },
    {
      "metadata": {
        "id": "Gb6j8Y5TdiaV",
        "colab_type": "code",
        "outputId": "7f9aee65-d123-41f4-e66b-dccf9afecb3f",
        "colab": {
          "base_uri": "https://localhost:8080/",
          "height": 3468
        }
      },
      "cell_type": "code",
      "source": [
        "history = model.fit(x_train, y_train,\n",
        "                    batch_size=batch_size,\n",
        "                    epochs=epochs,\n",
        "                    verbose=1,\n",
        "                    validation_data=(x_test, y_test))\n",
        "score = model.evaluate(x_test, y_test, verbose=0)\n",
        "print('Test loss:', score[0])\n",
        "print('Test accuracy:', score[1])"
      ],
      "execution_count": 0,
      "outputs": [
        {
          "output_type": "stream",
          "text": [
            "Train on 50000 samples, validate on 10000 samples\n",
            "Epoch 1/100\n",
            "50000/50000 [==============================] - 16s 323us/step - loss: 0.0887 - acc: 0.1647 - val_loss: 0.0850 - val_acc: 0.2627\n",
            "Epoch 2/100\n",
            "50000/50000 [==============================] - 16s 330us/step - loss: 0.0850 - acc: 0.2445 - val_loss: 0.0824 - val_acc: 0.3074\n",
            "Epoch 3/100\n",
            "50000/50000 [==============================] - 17s 336us/step - loss: 0.0828 - acc: 0.2832 - val_loss: 0.0806 - val_acc: 0.3269\n",
            "Epoch 4/100\n",
            "50000/50000 [==============================] - 17s 336us/step - loss: 0.0815 - acc: 0.3055 - val_loss: 0.0794 - val_acc: 0.3463\n",
            "Epoch 5/100\n",
            "50000/50000 [==============================] - 16s 328us/step - loss: 0.0804 - acc: 0.3229 - val_loss: 0.0784 - val_acc: 0.3548\n",
            "Epoch 6/100\n",
            "50000/50000 [==============================] - 16s 327us/step - loss: 0.0795 - acc: 0.3332 - val_loss: 0.0776 - val_acc: 0.3687\n",
            "Epoch 7/100\n",
            "50000/50000 [==============================] - 17s 330us/step - loss: 0.0787 - acc: 0.3430 - val_loss: 0.0770 - val_acc: 0.3750\n",
            "Epoch 8/100\n",
            "50000/50000 [==============================] - 16s 329us/step - loss: 0.0780 - acc: 0.3549 - val_loss: 0.0764 - val_acc: 0.3788\n",
            "Epoch 9/100\n",
            "50000/50000 [==============================] - 16s 329us/step - loss: 0.0775 - acc: 0.3581 - val_loss: 0.0758 - val_acc: 0.3870\n",
            "Epoch 10/100\n",
            "50000/50000 [==============================] - 17s 331us/step - loss: 0.0769 - acc: 0.3674 - val_loss: 0.0754 - val_acc: 0.3900\n",
            "Epoch 11/100\n",
            "50000/50000 [==============================] - 16s 327us/step - loss: 0.0765 - acc: 0.3725 - val_loss: 0.0749 - val_acc: 0.3966\n",
            "Epoch 12/100\n",
            "50000/50000 [==============================] - 16s 326us/step - loss: 0.0761 - acc: 0.3783 - val_loss: 0.0745 - val_acc: 0.3995\n",
            "Epoch 13/100\n",
            "50000/50000 [==============================] - 17s 331us/step - loss: 0.0757 - acc: 0.3816 - val_loss: 0.0742 - val_acc: 0.4029\n",
            "Epoch 14/100\n",
            "50000/50000 [==============================] - 17s 335us/step - loss: 0.0753 - acc: 0.3865 - val_loss: 0.0738 - val_acc: 0.4036\n",
            "Epoch 15/100\n",
            "50000/50000 [==============================] - 17s 333us/step - loss: 0.0749 - acc: 0.3911 - val_loss: 0.0735 - val_acc: 0.4089\n",
            "Epoch 16/100\n",
            "50000/50000 [==============================] - 17s 332us/step - loss: 0.0746 - acc: 0.3955 - val_loss: 0.0732 - val_acc: 0.4147\n",
            "Epoch 17/100\n",
            "50000/50000 [==============================] - 17s 332us/step - loss: 0.0743 - acc: 0.3987 - val_loss: 0.0730 - val_acc: 0.4120\n",
            "Epoch 18/100\n",
            "50000/50000 [==============================] - 17s 332us/step - loss: 0.0739 - acc: 0.4032 - val_loss: 0.0727 - val_acc: 0.4143\n",
            "Epoch 19/100\n",
            "50000/50000 [==============================] - 17s 339us/step - loss: 0.0736 - acc: 0.4057 - val_loss: 0.0723 - val_acc: 0.4233\n",
            "Epoch 20/100\n",
            "50000/50000 [==============================] - 16s 329us/step - loss: 0.0733 - acc: 0.4098 - val_loss: 0.0720 - val_acc: 0.4243\n",
            "Epoch 21/100\n",
            "50000/50000 [==============================] - 17s 334us/step - loss: 0.0730 - acc: 0.4133 - val_loss: 0.0718 - val_acc: 0.4260\n",
            "Epoch 22/100\n",
            "50000/50000 [==============================] - 17s 335us/step - loss: 0.0728 - acc: 0.4157 - val_loss: 0.0715 - val_acc: 0.4308\n",
            "Epoch 23/100\n",
            "50000/50000 [==============================] - 17s 337us/step - loss: 0.0725 - acc: 0.4174 - val_loss: 0.0714 - val_acc: 0.4284\n",
            "Epoch 24/100\n",
            "50000/50000 [==============================] - 17s 335us/step - loss: 0.0723 - acc: 0.4221 - val_loss: 0.0711 - val_acc: 0.4343\n",
            "Epoch 25/100\n",
            "50000/50000 [==============================] - 17s 337us/step - loss: 0.0721 - acc: 0.4212 - val_loss: 0.0712 - val_acc: 0.4312\n",
            "Epoch 26/100\n",
            "50000/50000 [==============================] - 17s 335us/step - loss: 0.0718 - acc: 0.4261 - val_loss: 0.0707 - val_acc: 0.4364\n",
            "Epoch 27/100\n",
            "50000/50000 [==============================] - 17s 334us/step - loss: 0.0715 - acc: 0.4305 - val_loss: 0.0705 - val_acc: 0.4380\n",
            "Epoch 28/100\n",
            "50000/50000 [==============================] - 17s 334us/step - loss: 0.0713 - acc: 0.4287 - val_loss: 0.0703 - val_acc: 0.4380\n",
            "Epoch 29/100\n",
            "50000/50000 [==============================] - 17s 333us/step - loss: 0.0710 - acc: 0.4339 - val_loss: 0.0703 - val_acc: 0.4392\n",
            "Epoch 30/100\n",
            "50000/50000 [==============================] - 17s 331us/step - loss: 0.0708 - acc: 0.4377 - val_loss: 0.0699 - val_acc: 0.4406\n",
            "Epoch 31/100\n",
            "50000/50000 [==============================] - 17s 336us/step - loss: 0.0707 - acc: 0.4376 - val_loss: 0.0697 - val_acc: 0.4464\n",
            "Epoch 32/100\n",
            "50000/50000 [==============================] - 17s 336us/step - loss: 0.0704 - acc: 0.4395 - val_loss: 0.0695 - val_acc: 0.4459\n",
            "Epoch 33/100\n",
            "50000/50000 [==============================] - 17s 337us/step - loss: 0.0702 - acc: 0.4417 - val_loss: 0.0695 - val_acc: 0.4464\n",
            "Epoch 34/100\n",
            "50000/50000 [==============================] - 17s 338us/step - loss: 0.0700 - acc: 0.4441 - val_loss: 0.0693 - val_acc: 0.4498\n",
            "Epoch 35/100\n",
            "50000/50000 [==============================] - 17s 338us/step - loss: 0.0698 - acc: 0.4446 - val_loss: 0.0691 - val_acc: 0.4510\n",
            "Epoch 36/100\n",
            "50000/50000 [==============================] - 17s 339us/step - loss: 0.0696 - acc: 0.4503 - val_loss: 0.0689 - val_acc: 0.4516\n",
            "Epoch 37/100\n",
            "50000/50000 [==============================] - 17s 342us/step - loss: 0.0695 - acc: 0.4491 - val_loss: 0.0686 - val_acc: 0.4549\n",
            "Epoch 38/100\n",
            "50000/50000 [==============================] - 17s 342us/step - loss: 0.0692 - acc: 0.4522 - val_loss: 0.0686 - val_acc: 0.4582\n",
            "Epoch 39/100\n",
            "50000/50000 [==============================] - 17s 343us/step - loss: 0.0690 - acc: 0.4541 - val_loss: 0.0683 - val_acc: 0.4612\n",
            "Epoch 40/100\n",
            "50000/50000 [==============================] - 17s 344us/step - loss: 0.0688 - acc: 0.4552 - val_loss: 0.0682 - val_acc: 0.4587\n",
            "Epoch 41/100\n",
            "50000/50000 [==============================] - 17s 345us/step - loss: 0.0686 - acc: 0.4579 - val_loss: 0.0683 - val_acc: 0.4581\n",
            "Epoch 42/100\n",
            "50000/50000 [==============================] - 17s 340us/step - loss: 0.0685 - acc: 0.4594 - val_loss: 0.0681 - val_acc: 0.4591\n",
            "Epoch 43/100\n",
            "50000/50000 [==============================] - 19s 384us/step - loss: 0.0684 - acc: 0.4600 - val_loss: 0.0679 - val_acc: 0.4642\n",
            "Epoch 44/100\n",
            "50000/50000 [==============================] - 17s 345us/step - loss: 0.0682 - acc: 0.4643 - val_loss: 0.0677 - val_acc: 0.4645\n",
            "Epoch 45/100\n",
            "50000/50000 [==============================] - 17s 349us/step - loss: 0.0679 - acc: 0.4649 - val_loss: 0.0676 - val_acc: 0.4660\n",
            "Epoch 46/100\n",
            "50000/50000 [==============================] - 18s 350us/step - loss: 0.0678 - acc: 0.4661 - val_loss: 0.0673 - val_acc: 0.4667\n",
            "Epoch 47/100\n",
            "50000/50000 [==============================] - 17s 345us/step - loss: 0.0675 - acc: 0.4696 - val_loss: 0.0672 - val_acc: 0.4667\n",
            "Epoch 48/100\n",
            "50000/50000 [==============================] - 17s 341us/step - loss: 0.0675 - acc: 0.4687 - val_loss: 0.0671 - val_acc: 0.4709\n",
            "Epoch 49/100\n",
            "50000/50000 [==============================] - 17s 338us/step - loss: 0.0674 - acc: 0.4700 - val_loss: 0.0670 - val_acc: 0.4698\n",
            "Epoch 50/100\n",
            "50000/50000 [==============================] - 17s 339us/step - loss: 0.0671 - acc: 0.4735 - val_loss: 0.0668 - val_acc: 0.4713\n",
            "Epoch 51/100\n",
            "50000/50000 [==============================] - 17s 339us/step - loss: 0.0669 - acc: 0.4761 - val_loss: 0.0666 - val_acc: 0.4747\n",
            "Epoch 52/100\n",
            "50000/50000 [==============================] - 17s 341us/step - loss: 0.0668 - acc: 0.4757 - val_loss: 0.0667 - val_acc: 0.4738\n",
            "Epoch 53/100\n",
            "50000/50000 [==============================] - 17s 343us/step - loss: 0.0667 - acc: 0.4754 - val_loss: 0.0665 - val_acc: 0.4745\n",
            "Epoch 54/100\n",
            "50000/50000 [==============================] - 17s 342us/step - loss: 0.0664 - acc: 0.4801 - val_loss: 0.0663 - val_acc: 0.4766\n",
            "Epoch 55/100\n",
            "50000/50000 [==============================] - 17s 347us/step - loss: 0.0664 - acc: 0.4789 - val_loss: 0.0662 - val_acc: 0.4803\n",
            "Epoch 56/100\n",
            "50000/50000 [==============================] - 17s 342us/step - loss: 0.0662 - acc: 0.4812 - val_loss: 0.0662 - val_acc: 0.4769\n",
            "Epoch 57/100\n",
            "50000/50000 [==============================] - 17s 338us/step - loss: 0.0660 - acc: 0.4846 - val_loss: 0.0661 - val_acc: 0.4812\n",
            "Epoch 58/100\n",
            "50000/50000 [==============================] - 17s 338us/step - loss: 0.0660 - acc: 0.4843 - val_loss: 0.0661 - val_acc: 0.4789\n",
            "Epoch 59/100\n",
            "50000/50000 [==============================] - 17s 340us/step - loss: 0.0658 - acc: 0.4850 - val_loss: 0.0658 - val_acc: 0.4804\n",
            "Epoch 60/100\n",
            "50000/50000 [==============================] - 17s 341us/step - loss: 0.0656 - acc: 0.4892 - val_loss: 0.0657 - val_acc: 0.4838\n",
            "Epoch 61/100\n",
            "50000/50000 [==============================] - 17s 340us/step - loss: 0.0655 - acc: 0.4873 - val_loss: 0.0655 - val_acc: 0.4856\n",
            "Epoch 62/100\n",
            "50000/50000 [==============================] - 17s 340us/step - loss: 0.0653 - acc: 0.4922 - val_loss: 0.0655 - val_acc: 0.4826\n",
            "Epoch 63/100\n",
            "50000/50000 [==============================] - 17s 340us/step - loss: 0.0651 - acc: 0.4925 - val_loss: 0.0655 - val_acc: 0.4875\n",
            "Epoch 64/100\n",
            "50000/50000 [==============================] - 17s 341us/step - loss: 0.0651 - acc: 0.4906 - val_loss: 0.0652 - val_acc: 0.4894\n",
            "Epoch 65/100\n",
            "50000/50000 [==============================] - 17s 337us/step - loss: 0.0650 - acc: 0.4932 - val_loss: 0.0653 - val_acc: 0.4862\n",
            "Epoch 66/100\n",
            "50000/50000 [==============================] - 17s 344us/step - loss: 0.0647 - acc: 0.4941 - val_loss: 0.0650 - val_acc: 0.4884\n",
            "Epoch 67/100\n",
            "50000/50000 [==============================] - 17s 340us/step - loss: 0.0646 - acc: 0.4957 - val_loss: 0.0649 - val_acc: 0.4915\n",
            "Epoch 68/100\n",
            "50000/50000 [==============================] - 17s 341us/step - loss: 0.0645 - acc: 0.4993 - val_loss: 0.0649 - val_acc: 0.4903\n",
            "Epoch 69/100\n",
            "50000/50000 [==============================] - 17s 338us/step - loss: 0.0643 - acc: 0.5004 - val_loss: 0.0648 - val_acc: 0.4893\n",
            "Epoch 70/100\n",
            "50000/50000 [==============================] - 17s 342us/step - loss: 0.0643 - acc: 0.5010 - val_loss: 0.0648 - val_acc: 0.4911\n",
            "Epoch 71/100\n",
            "50000/50000 [==============================] - 17s 343us/step - loss: 0.0640 - acc: 0.5039 - val_loss: 0.0645 - val_acc: 0.4956\n",
            "Epoch 72/100\n",
            "50000/50000 [==============================] - 17s 341us/step - loss: 0.0639 - acc: 0.5038 - val_loss: 0.0643 - val_acc: 0.4964\n",
            "Epoch 73/100\n",
            "50000/50000 [==============================] - 17s 343us/step - loss: 0.0639 - acc: 0.5039 - val_loss: 0.0645 - val_acc: 0.4951\n",
            "Epoch 74/100\n",
            "50000/50000 [==============================] - 17s 347us/step - loss: 0.0636 - acc: 0.5071 - val_loss: 0.0642 - val_acc: 0.4959\n",
            "Epoch 75/100\n",
            "50000/50000 [==============================] - 17s 341us/step - loss: 0.0636 - acc: 0.5059 - val_loss: 0.0642 - val_acc: 0.4968\n",
            "Epoch 76/100\n",
            "50000/50000 [==============================] - 17s 341us/step - loss: 0.0634 - acc: 0.5088 - val_loss: 0.0641 - val_acc: 0.4982\n",
            "Epoch 77/100\n",
            "50000/50000 [==============================] - 17s 338us/step - loss: 0.0633 - acc: 0.5107 - val_loss: 0.0640 - val_acc: 0.4973\n",
            "Epoch 78/100\n",
            "50000/50000 [==============================] - 17s 340us/step - loss: 0.0632 - acc: 0.5087 - val_loss: 0.0639 - val_acc: 0.5017\n",
            "Epoch 79/100\n",
            "50000/50000 [==============================] - 17s 341us/step - loss: 0.0631 - acc: 0.5104 - val_loss: 0.0637 - val_acc: 0.5029\n",
            "Epoch 80/100\n",
            "50000/50000 [==============================] - 17s 344us/step - loss: 0.0629 - acc: 0.5137 - val_loss: 0.0638 - val_acc: 0.5029\n",
            "Epoch 81/100\n",
            "50000/50000 [==============================] - 17s 342us/step - loss: 0.0628 - acc: 0.5137 - val_loss: 0.0637 - val_acc: 0.5006\n",
            "Epoch 82/100\n",
            "50000/50000 [==============================] - 17s 341us/step - loss: 0.0626 - acc: 0.5140 - val_loss: 0.0637 - val_acc: 0.5013\n",
            "Epoch 83/100\n",
            "50000/50000 [==============================] - 17s 337us/step - loss: 0.0625 - acc: 0.5184 - val_loss: 0.0635 - val_acc: 0.5009\n",
            "Epoch 84/100\n",
            "50000/50000 [==============================] - 17s 341us/step - loss: 0.0624 - acc: 0.5190 - val_loss: 0.0634 - val_acc: 0.5034\n",
            "Epoch 85/100\n",
            "50000/50000 [==============================] - 17s 343us/step - loss: 0.0623 - acc: 0.5182 - val_loss: 0.0632 - val_acc: 0.5087\n",
            "Epoch 86/100\n",
            "50000/50000 [==============================] - 17s 346us/step - loss: 0.0621 - acc: 0.5226 - val_loss: 0.0632 - val_acc: 0.5085\n",
            "Epoch 87/100\n",
            "50000/50000 [==============================] - 17s 346us/step - loss: 0.0621 - acc: 0.5198 - val_loss: 0.0632 - val_acc: 0.5070\n",
            "Epoch 88/100\n",
            "50000/50000 [==============================] - 17s 346us/step - loss: 0.0620 - acc: 0.5215 - val_loss: 0.0632 - val_acc: 0.5058\n",
            "Epoch 89/100\n",
            "50000/50000 [==============================] - 17s 346us/step - loss: 0.0618 - acc: 0.5231 - val_loss: 0.0630 - val_acc: 0.5091\n",
            "Epoch 90/100\n",
            "50000/50000 [==============================] - 17s 347us/step - loss: 0.0617 - acc: 0.5262 - val_loss: 0.0628 - val_acc: 0.5106\n",
            "Epoch 91/100\n",
            "50000/50000 [==============================] - 17s 345us/step - loss: 0.0614 - acc: 0.5275 - val_loss: 0.0628 - val_acc: 0.5087\n",
            "Epoch 92/100\n",
            "50000/50000 [==============================] - 17s 347us/step - loss: 0.0614 - acc: 0.5273 - val_loss: 0.0627 - val_acc: 0.5106\n",
            "Epoch 93/100\n",
            "50000/50000 [==============================] - 17s 343us/step - loss: 0.0614 - acc: 0.5295 - val_loss: 0.0627 - val_acc: 0.5109\n",
            "Epoch 94/100\n",
            "50000/50000 [==============================] - 17s 342us/step - loss: 0.0612 - acc: 0.5322 - val_loss: 0.0629 - val_acc: 0.5068\n",
            "Epoch 95/100\n",
            "50000/50000 [==============================] - 17s 342us/step - loss: 0.0610 - acc: 0.5340 - val_loss: 0.0627 - val_acc: 0.5135\n",
            "Epoch 96/100\n",
            "50000/50000 [==============================] - 17s 344us/step - loss: 0.0610 - acc: 0.5312 - val_loss: 0.0625 - val_acc: 0.5114\n",
            "Epoch 97/100\n",
            "50000/50000 [==============================] - 17s 341us/step - loss: 0.0608 - acc: 0.5357 - val_loss: 0.0624 - val_acc: 0.5152\n",
            "Epoch 98/100\n",
            "50000/50000 [==============================] - 17s 340us/step - loss: 0.0607 - acc: 0.5343 - val_loss: 0.0625 - val_acc: 0.5084\n",
            "Epoch 99/100\n",
            "50000/50000 [==============================] - 17s 346us/step - loss: 0.0606 - acc: 0.5352 - val_loss: 0.0623 - val_acc: 0.5120\n",
            "Epoch 100/100\n",
            "50000/50000 [==============================] - 17s 341us/step - loss: 0.0605 - acc: 0.5367 - val_loss: 0.0623 - val_acc: 0.5167\n",
            "Test loss: 0.06225302340984344\n",
            "Test accuracy: 0.5167\n"
          ],
          "name": "stdout"
        }
      ]
    },
    {
      "metadata": {
        "id": "LihZ2xBhdl2_",
        "colab_type": "code",
        "outputId": "5f7d24ff-1fa3-4655-f375-44dde5b9f502",
        "colab": {
          "base_uri": "https://localhost:8080/",
          "height": 403
        }
      },
      "cell_type": "code",
      "source": [
        "plt.figure(0)\n",
        "plt.plot(history.history['acc'],'r')\n",
        "plt.plot(history.history['val_acc'],'g')\n",
        "plt.xticks(np.arange(0, 100, 5.0))\n",
        "plt.rcParams['figure.figsize'] = (8, 6)\n",
        "plt.xlabel(\"Num of Epochs\")\n",
        "plt.ylabel(\"Accuracy\")\n",
        "plt.title(\"Training Accuracy vs Validation Accuracy\")\n",
        "plt.legend(['train','validation'])\n",
        "plt.show()"
      ],
      "execution_count": 0,
      "outputs": [
        {
          "output_type": "display_data",
          "data": {
            "image/png": "[encoded data removed]",
            "text/plain": [
              "<Figure size 576x432 with 1 Axes>"
            ]
          },
          "metadata": {
            "tags": []
          }
        }
      ]
    },
    {
      "metadata": {
        "id": "L1vfmxTS4nvF",
        "colab_type": "code",
        "outputId": "1d0da603-76a1-491d-f661-57faa19b9b35",
        "colab": {
          "base_uri": "https://localhost:8080/",
          "height": 403
        }
      },
      "cell_type": "code",
      "source": [
        "plt.figure(1)\n",
        "plt.plot(history.history['loss'],'r')\n",
        "plt.plot(history.history['val_loss'],'g')\n",
        "plt.xticks(np.arange(0, 100, 5.0))\n",
        "plt.rcParams['figure.figsize'] = (8, 6)\n",
        "plt.xlabel(\"Num of Epochs\")\n",
        "plt.ylabel(\"Loss\")\n",
        "plt.title(\"Training Loss vs Validation Loss\")\n",
        "plt.legend(['train','validation'])\n",
        "plt.show()"
      ],
      "execution_count": 0,
      "outputs": [
        {
          "output_type": "display_data",
          "data": {
            "image/png": "[encoded data removed]",
            "text/plain": [
              "<Figure size 576x432 with 1 Axes>"
            ]
          },
          "metadata": {
            "tags": []
          }
        }
      ]
    },
    {
      "metadata": {
        "id": "R7Yr3ie55kEX",
        "colab_type": "text"
      },
      "cell_type": "markdown",
      "source": [
        "**Conclusion:**\n",
        "Increased neurons and Epochs increases the accuracy. \n",
        "No much changes in loss. Computation time increased by 3 secs per Epoch"
      ]
    },
    {
      "metadata": {
        "id": "7PhYsiAZ6P8z",
        "colab_type": "code",
        "colab": {}
      },
      "cell_type": "code",
      "source": [
        ""
      ],
      "execution_count": 0,
      "outputs": []
    }
  ]
}